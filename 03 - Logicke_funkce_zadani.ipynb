{
  "cells": [
    {
      "cell_type": "markdown",
      "metadata": {
        "id": "qp34pjf8OZnc"
      },
      "source": [
        "# Desetiminutovka\n",
        "\n",
        "Napiš program, který se uživatele zeptá, jaké zařízení používá nejraději.\n",
        "Možnosti:\n",
        "* pc → vypíše \"Máš rád počítače.\"\n",
        "* telefon → vypíše \"Máš rád telefon.\"\n",
        "* cokoli jiného → vypíše \"To je také zajímavá volba.\"\n",
        "---\n",
        "\n",
        "Ukázka řešení:\n",
        "```\n",
        "Zadejte zařízení, které máte nejraději (možnosti: pc, telefon atd.): telefon\n",
        "Máš rád telefon.\n",
        "\n",
        "jiný vstup:\n",
        "Zadejte zařízení, které máte nejraději (možnosti: pc, telefon atd.): tablet\n",
        "To je také zajímavá volba.\n",
        "\n",
        "```\n",
        "\n",
        "\n",
        "\n"
      ]
    },
    {
      "cell_type": "code",
      "execution_count": 4,
      "metadata": {},
      "outputs": [
        {
          "name": "stdout",
          "output_type": "stream",
          "text": [
            "to je zajímavá volba\n"
          ]
        }
      ],
      "source": [
        "zarizeni = input(\" zadejte zařízení, které máte nejraději\")\n",
        "if zarizeni == \"pc\":\n",
        "    print(\"máš rád počítače\")\n",
        "elif zarizeni == \"telefon\":\n",
        "    print(\"máš rád telefon\")\n",
        "else:\n",
        "    print(\"to je zajímavá volba\")"
      ]
    },
    {
      "cell_type": "markdown",
      "metadata": {
        "id": "euEmQLb4gS2E"
      },
      "source": [
        "# Logické funkce\n",
        "Python pro spojování porovnávání hodnot v podmínkách nabízí základní logické operátory. A to operátory AND, OR, NOT a IS.<br/>\n",
        "## AND\n",
        "Logický operátor AND, jak název napovídá vrací True pokud jsou splněny obě podmínky. Může se například jednat o to, jestli jsou obě proměnné větší, než číslo X."
      ]
    },
    {
      "cell_type": "code",
      "execution_count": null,
      "metadata": {
        "id": "4UFcqQBKPpuf"
      },
      "outputs": [],
      "source": [
        "# pro jednoduchost\n",
        "if (7 < 5) and (8 > 7):\n",
        "    print(\"Podmínka je splněna\")\n",
        "else:\n",
        "    print(\"Podmínka není splněna\")\n",
        "# Jaký bude výsledek?\n"
      ]
    },
    {
      "cell_type": "code",
      "execution_count": null,
      "metadata": {
        "id": "zer6rZcEgS2M"
      },
      "outputs": [],
      "source": [
        "# pro demonstraci si určíme proměnné \"a\" a \"b\"\n",
        "# tyto proměnné mohou být například výsledkem nějaké početní operace\n",
        "a = 0\n",
        "b = 2\n",
        "\n",
        "# stanovíme si minimální hodnotu, kterou musí obě čísla mít\n",
        "# v našem případě se jedná o číslo 0\n",
        "minimalni_hodnota = 0\n",
        "\n",
        "# tato podmínka se dá přečíst jako:\n",
        "    # pokud je \"a\" větší, nebo rovno minimální hodnotě a zároveň\n",
        "    # \"b\" větší, nebo rovno minimální hodnotě\n",
        "if a >= minimalni_hodnota and b >= minimalni_hodnota:\n",
        "    # pokud je podmínka splněna, vypíše se tento text\n",
        "    print(f\"Obě čísla jsou větší než minimální hodnota '{minimalni_hodnota}', nebo ji jsou rovny\")\n",
        "else:\n",
        "    # pokud podmínka není splněna, vypíše se tento text\n",
        "    print(f\"Jedno z čísel je menší než minimální hodnota '{minimalni_hodnota}'\")\n",
        "\n",
        "# s hodnotami si můžete pohrát, abyste viděli jak tato logická operace funguje"
      ]
    },
    {
      "cell_type": "markdown",
      "metadata": {
        "id": "3Bfui7DJgS2Q"
      },
      "source": [
        "## OR\n",
        "Další z logických funkcí je OR. Tato funkce vrací True, pokud alespoň jedna z podmínek je splněna. Může jít například o to, zda je hledaný znak znak ve slově."
      ]
    },
    {
      "cell_type": "code",
      "execution_count": null,
      "metadata": {
        "id": "Wq9A3D2bQy_q"
      },
      "outputs": [],
      "source": [
        "# pro jednoduchost\n",
        "if (7 < 5) or (8 > 7):\n",
        "    print(\"Podmínka je splněna\")\n",
        "else:\n",
        "    print(\"Podmínka není splněna\")\n",
        "# Jaký bude výsledek?\n"
      ]
    },
    {
      "cell_type": "code",
      "execution_count": null,
      "metadata": {
        "id": "ADr_AA3mgS2b"
      },
      "outputs": [],
      "source": [
        "# pro demonstraci si určíme proměnné \"hledany_znak_1\" a \"hledany_znak_2\"\n",
        "hledany_znak_1 = \"a\"\n",
        "hledany_znak_2 = \"w\"\n",
        "\n",
        "# určíme si slovo proti kterému budeme porovnávat\n",
        "slovo_na_porovnani = \"ahoj\"\n",
        "\n",
        "# tato podmínka se dá přečíst jako:\n",
        "    # pokud \"hledany_znak_1\" je ve slově \"slovo_na_porovnani\" nebo\n",
        "    # \"hledany_znak_2\" je ve slově \"slovo_na_porovnani\"\n",
        "if hledany_znak_1 in slovo_na_porovnani or hledany_znak_2 in slovo_na_porovnani:\n",
        "    # pokud je podmínka splněna, vypíše se tento text\n",
        "    print(f\"Alespoň jedno písmeno je ve slově '{slovo_na_porovnani}'\")\n",
        "else:\n",
        "    # pokud podmínka není splněna, vypíše se tento text\n",
        "    print(f\"Žádný z hledaných znaků se nenachází ve slově '{slovo_na_porovnani}'\")\n",
        "\n",
        "# s hodnotami si můžete pohrát, abyste viděli jak tato logická operace funguje\n"
      ]
    },
    {
      "cell_type": "markdown",
      "metadata": {
        "id": "TTYgyzRhgS2h"
      },
      "source": [
        "## NOT\n",
        "Jedna z posledních logických funkcí je logická operace NOT. Tato logická operace vrací True pokud podmínka není splněna. Může jít například o to, jestli výsledek matematického výpočtu není určité hodnoty."
      ]
    },
    {
      "cell_type": "code",
      "execution_count": null,
      "metadata": {
        "id": "CPAXcbGNRa1S"
      },
      "outputs": [],
      "source": [
        "# pro jednoduchost\n",
        "if not (7 < 5) and (8 > 7):\n",
        "    print(\"Podmínka je splněna\")\n",
        "else:\n",
        "    print(\"Podmínka není splněna\")\n",
        "# Jaký bude výsledek?\n"
      ]
    },
    {
      "cell_type": "code",
      "execution_count": null,
      "metadata": {
        "id": "vIvmjaoDgS2i"
      },
      "outputs": [],
      "source": [
        "# pro demonstraci si určíme proměnné \"scitanec_1\" a \"scitanec_2\"\n",
        "scitanec_1 = 2\n",
        "scitanec_2 = 3\n",
        "\n",
        "nechteny_vysledek = 5\n",
        "\n",
        "# tato podmínka se dá přečíst jako:\n",
        "    # pokud \"scitanec_1\" plus \"scitanec_2\" se nerovnaji \"nechteny_vysledek\"\n",
        "# ! u matematického zápisu NOT se používá znak \"!\"\n",
        "if not scitanec_1 + scitanec_2 == nechteny_vysledek:\n",
        "    # pokud je podmínka splněna, vypíše se tento text\n",
        "    print(f\"Výsledek není nechtěný, tedy nemá hodnotu {nechteny_vysledek}, ale má hodnotu {scitanec_1 + scitanec_2}\")\n",
        "else:\n",
        "    # pokud podmínka není splněna, vypíše se tento text\n",
        "    print(f\"Výsledek má hodnotu {nechteny_vysledek}\")\n",
        "\n",
        "# s hodnotami si můžete pohrát, abyste viděli jak tato logická operace funguje\n"
      ]
    },
    {
      "cell_type": "markdown",
      "metadata": {
        "id": "ArepZbYNgS2m"
      },
      "source": [
        "Může jít také například o modifikaci předešlého problému s písmenky. Můžeme testovat jestli znak ve slově není."
      ]
    },
    {
      "cell_type": "code",
      "execution_count": null,
      "metadata": {
        "id": "ZiTiQeTegS2o"
      },
      "outputs": [],
      "source": [
        "# pro demonstraci si určíme proměnné \"hledany_znak_1\"\n",
        "hledany_znak_1 = \"a\"\n",
        "# určíme si slovo proti kterému budeme porovnávat\n",
        "slovo_na_porovnani = \"ahoj\"\n",
        "\n",
        "# tato podmínka se dá přečíst jako:\n",
        "    # pokud \"hledany_znak_1\" není ve slově \"slovo_na_porovnani\"\n",
        "if hledany_znak_1 not in slovo_na_porovnani:\n",
        "    # pokud je podmínka splněna, vypíše se tento text\n",
        "    print(f\"Žádný z hledaných znaků se nenachází ve slově '{slovo_na_porovnani}'\")\n",
        "else:\n",
        "    # pokud podmínka není splněna, vypíše se tento text\n",
        "    print(f\"Alespoň jedno písmeno je ve slově '{slovo_na_porovnani}'\")\n",
        "\n",
        "# tento problém je v podstatě převráceně napsané předešlé porovnání znaků ve slově\n",
        "\n",
        "# s hodnotami si můžete pohrát, abyste viděli jak tato logická operace funguje"
      ]
    },
    {
      "cell_type": "markdown",
      "metadata": {
        "id": "ahqnOubsgS2u"
      },
      "source": [
        "# Dále již nejsou logické funkce, ale je dobré si připomenout, operátory, které můžeme využít v podmínkách\n",
        "## == (je přesně rovno)\n",
        "Předposlední logická operace je ==. Tato operace vrací True pokud jsou porovnávané proměnné stejné"
      ]
    },
    {
      "cell_type": "code",
      "execution_count": null,
      "metadata": {
        "id": "AQwRcX6agS2w"
      },
      "outputs": [],
      "source": [
        "# mějme 2 proměnné \"a\" a \"b\"\n",
        "a = 2\n",
        "b = 2\n",
        "\n",
        "# tato podmínka se dá přečíst jako:\n",
        "    # pokud proměnná 'a' má stejnou hodnotu jako proměnná 'b'\n",
        "if a == b:\n",
        "    print(\"Proměnné 'a' a 'b' mají stejnou hodnotu\")\n",
        "else:\n",
        "    print(\"Proměnné 'a' a 'b' mají stejnou hodnotu\")\n",
        "\n",
        "# s hodnotami si můžete pohrát, abyste viděli jak tato logická operace funguje"
      ]
    },
    {
      "cell_type": "markdown",
      "metadata": {
        "id": "lPIoariFgS2y"
      },
      "source": [
        "Logická operace == nefunguje jenom na porovnání čísel, ale také na porovnání stringů."
      ]
    },
    {
      "cell_type": "code",
      "execution_count": null,
      "metadata": {
        "id": "ESlUmAjbgS20"
      },
      "outputs": [],
      "source": [
        "a = \"text\"\n",
        "b = \"text\"\n",
        "\n",
        "if a == b:\n",
        "    print(\"Proměnné 'a' a 'b' mají stejnou hodnotu\")\n",
        "else:\n",
        "    print(\"Proměnné 'a' a 'b' mají stejnou hodnotu\")\n"
      ]
    },
    {
      "cell_type": "markdown",
      "metadata": {
        "id": "R6k-aYITgS21"
      },
      "source": [
        "Nebo na pole."
      ]
    },
    {
      "cell_type": "code",
      "execution_count": null,
      "metadata": {
        "id": "4GdvftVWgS22"
      },
      "outputs": [],
      "source": [
        "a = [1, \"2\", True]\n",
        "b = [1, \"2\", True]\n",
        "\n",
        "if a == b:\n",
        "    print(\"Proměnné 'a' a 'b' mají stejnou hodnotu\")\n",
        "else:\n",
        "    print(\"Proměnné 'a' a 'b' mají stejnou hodnotu\")"
      ]
    },
    {
      "cell_type": "markdown",
      "metadata": {
        "id": "6o50wxG9gS24"
      },
      "source": [
        "## IS\n",
        "Operátor \"is\" je velmi podobný \"==\" s tou změnou, že k porovnávání přidává i místo v paměti, na kterém je proměnná uložena.<br> Tento operátor se používá především u polí, protože, pokud máme 2 čísla nebo texty o stejné hodnotě Python si je automaticky uloží jako jeden objekt, na jedno místo v paměti, toto dělá v zájmu menšího vytížení RAM."
      ]
    },
    {
      "cell_type": "code",
      "execution_count": null,
      "metadata": {
        "id": "S0nf_S-kgS25"
      },
      "outputs": [],
      "source": [
        "# mějme proměnnou \"a\"\n",
        "a = [1, \"2\", True]\n",
        "# a proměnnou \"b\", které přiřadíme proměnnou \"a\"\n",
        "b = a\n",
        "\n",
        "# v tuto chvíli proměnná \"a\" i \"b\" mají stejnou číselnou hodnotu, stejný datový typ, a protože se jedná pouze o odkázání na proměnnou, tak i stejné místo v paměti\n",
        "\n",
        "if a is b:\n",
        "    print(\"Proměnné 'a' a 'b' jsou identické\")\n",
        "else:\n",
        "    print(\"Proměnné 'a' a 'b' nejsou identické\")\n"
      ]
    },
    {
      "cell_type": "markdown",
      "metadata": {
        "id": "v-VFUet5gS27"
      },
      "source": [
        "Pokud proměnné pozměníme tak, že jedna nebude na druhou odkazovat, ale budou mít stejnou hodnotu, uvidíme, že podmínka nebude splněna"
      ]
    },
    {
      "cell_type": "code",
      "execution_count": null,
      "metadata": {
        "colab": {
          "base_uri": "https://localhost:8080/"
        },
        "id": "euKCEssmgS28",
        "outputId": "6fb0e94c-5667-4d36-fba7-e93b2f44763d"
      },
      "outputs": [
        {
          "name": "stdout",
          "output_type": "stream",
          "text": [
            "Proměnné 'a' a 'b' nejsou identické\n"
          ]
        }
      ],
      "source": [
        "# mějme proměnnou \"a\"\n",
        "a = [1, \"2\", True]\n",
        "# a proměnnou \"b\", které přiřadíme proměnnou \"a\"\n",
        "b = [1, \"2\", True]\n",
        "# v tuto chvíli proměnná \"a\" i \"b\" mají stejnou číselnou hodnotu, stejný datový typ, a protože se jedná pouze o odkázání na proměnnou, tak i stejné místo v paměti\n",
        "\n",
        "if a is b:\n",
        "    print(\"Proměnné 'a' a 'b' jsou identické\")\n",
        "else:\n",
        "    print(\"Proměnné 'a' a 'b' nejsou identické\")"
      ]
    },
    {
      "cell_type": "markdown",
      "metadata": {
        "id": "L73p0ePMgS2-"
      },
      "source": [
        "## Kombinace logických oprací\n",
        "Logické operace lze samozřejmě kombinovat. Je zde, ale důležité pravidlo, operátor AND má přednost před operátorem OR. To znaměná, že se nejdříve vyhodnotí porovnání mezi AND a až pak se vyhodnotí OR.\n",
        "\n",
        "Přednosti operací jsou pevně definované, pro přehlednost kódu je i tak velmi výhodné používat <strong>závorky</strong>"
      ]
    },
    {
      "cell_type": "code",
      "execution_count": null,
      "metadata": {
        "id": "PDFlm1SogS2_"
      },
      "outputs": [],
      "source": [
        "a = 1\n",
        "b = 2\n",
        "\n",
        "spravny_spoucet = 3\n",
        "nespravny_spoucet = 5\n",
        "\n",
        "# v této podmínce se nejdříve vyhodnotí logické operátory AND a poté operátory OR\n",
        "# závorky zde neříkají to, která operace se má vyhodnotit první, slouží pouze pro větší přehlednost\n",
        "if (a + b == 3 and a + b > 0) or (a + b == 3 and a + b > 5):\n",
        "    print(\"Podmínka je splněná\")\n",
        "else:\n",
        "    print(\"Podmínka není splněná\")"
      ]
    },
    {
      "cell_type": "markdown",
      "metadata": {
        "id": "dV-VNYgFgS3A"
      },
      "source": [
        "## Uložení podmínky do proměnné\n",
        "Podmínky lze oddělit od ifu a uložit si je do samostatné proměnné. To je možné díky tomu, že podmínky vrací buď hodnotu True nebo False. Jedná se tedy o datový typ \"bool\"."
      ]
    },
    {
      "cell_type": "code",
      "execution_count": null,
      "metadata": {
        "id": "vtEOXBMdgS3B"
      },
      "outputs": [],
      "source": [
        "# ověření, že podmínka je opravdu datový typ \"bool\"\n",
        "\n",
        "# takto může vypadat nějaká podmínka\n",
        "if 1 + 2 == 3 or 4 > 2:\n",
        "    pass\n",
        "\n",
        "# pokud tuto podmínku vezmeme a zjistíme její typ\n",
        "print(type(1 + 2 == 3 or 4 > 2))\n",
        "#zjistíme, že se jedná o datový typ \"bool\" a můžeme ho tedy uložit do proměnné\n",
        "\n",
        "podminka = 1 + 2 == 3 or 4 > 2\n",
        "# nyní tuto podmínku můžeme aplikovat\n",
        "\n",
        "# pokud je podmínka True\n",
        "if podminka:\n",
        "    print(f\"Podmínka {podminka} je splněna\")"
      ]
    },
    {
      "cell_type": "markdown",
      "metadata": {
        "id": "Nak2NyaBgS3C"
      },
      "source": [
        "## Cvičení\n",
        "Bude následovat cvičení na procvičení logických operací.\n",
        "\n",
        "### Cvičení 1:\n",
        "Vytvořte podmínku, která (vrátí True pokud se písmeno \"a\" nachází v slově \"abracadabra\"), nebo (proměnné x a y mají stejnou hodnotu)."
      ]
    },
    {
      "cell_type": "code",
      "execution_count": null,
      "metadata": {
        "colab": {
          "base_uri": "https://localhost:8080/"
        },
        "id": "8c4VxKrjgS3D",
        "outputId": "41e11c39-7f67-4270-bd14-2311dd30b70b"
      },
      "outputs": [
        {
          "name": "stdout",
          "output_type": "stream",
          "text": [
            "hledané písmeno je z\n",
            "x je 1\n",
            "y je 0\n",
            "podminka je neni splnena\n"
          ]
        }
      ],
      "source": [
        "slovo = \"abracadabra\"\n",
        "pismeno = input(\"pismeno\")\n",
        "\n",
        "x = int(input(\"zadej číslo\"))\n",
        "y = int(input(\"zadej číslo\"))\n",
        "    \n",
        "if pismeno in slovo or x == y:\n",
        "    podminka = \"splnena\"\n",
        "else:\n",
        "    podminka = \"nesplnena\"\n",
        "\n",
        "print(\"hledané písmeno je\", pismeno)\n",
        "print(\"x je\", x)\n",
        "print(\"y je\", y)\n",
        "print(\"podminka je\", podminka)"
      ]
    },
    {
      "cell_type": "markdown",
      "metadata": {
        "id": "SXKR34pHgS3F"
      },
      "source": [
        "Referenční řešení: <br>\n",
        "<table style=\"margin:auto\">\n",
        "<tr>\n",
        "<td>\n",
        "<pre>\n",
        "hledané písmeno je 'a'\n",
        "x je 0\n",
        "y je 5\n",
        "Podmínka je splněna\n",
        "</pre>\n",
        "</td>\n",
        "<td>\n",
        "<pre>\n",
        "hledané písmeno je 'b'\n",
        "x je 0\n",
        "y je 0\n",
        "Podmínka je splněna\n",
        "</pre>\n",
        "</td>\n",
        "<td>\n",
        "<pre>\n",
        "hledané písmeno je 'z'\n",
        "x je 1\n",
        "y je 0\n",
        "Podmínka není splněna\n",
        "</pre>\n",
        "</td>\n",
        "</tr>\n",
        "</table>"
      ]
    },
    {
      "cell_type": "markdown",
      "metadata": {
        "id": "yeP5E6VCgS3F"
      },
      "source": [
        "### Cvičení 2:\n",
        "Vytvořte podmínku která vrátí True (pokud mají 2 pole x = y =[1, \"text\", True, [1, 2, 3]] stejnou hodnotu a stejné místo v paměti) a zároveň (součet proměnných a, b je větší než 15)."
      ]
    },
    {
      "cell_type": "code",
      "execution_count": 1,
      "metadata": {
        "colab": {
          "base_uri": "https://localhost:8080/"
        },
        "id": "DmleTWEpgS3G",
        "outputId": "8bddcb1c-811e-42f5-b769-cb33743353ec"
      },
      "outputs": [
        {
          "name": "stdout",
          "output_type": "stream",
          "text": [
            "a je 10\n",
            "b je 6\n",
            "x a y nejsou stejné\n",
            "podmínka není splněna\n"
          ]
        }
      ],
      "source": [
        "x = [1, \"test\", True, [1, 2, 3]]\n",
        "y = 1\n",
        "a = int(input(\"zadejte číslo\"))\n",
        "b = int(input(\"zadejte číslo\"))\n",
        "print(\"a je\", a)\n",
        "print(\"b je\", b)\n",
        "\n",
        "if (x is y):\n",
        "    print(\"x a y jsou stejné\")\n",
        "else:\n",
        "    print(\"x a y nejsou stejné\")\n",
        "if (a+b >15) and (x is y):\n",
        "    print(\"podmínka je splněna\")\n",
        "else:\n",
        "    print(\"podmínka není splněna\")"
      ]
    },
    {
      "cell_type": "markdown",
      "metadata": {
        "id": "eMHya05RgS3H"
      },
      "source": [
        "Referenční řešení: <br>\n",
        "<table style=\"margin:auto\">\n",
        "<tr>\n",
        "<td>\n",
        "<pre>\n",
        "a je 10\n",
        "b je 7\n",
        "x a y jsou stejné\n",
        "Podmínka je splněna\n",
        "</pre>\n",
        "</td>\n",
        "<td>\n",
        "<pre>\n",
        "a je 10\n",
        "b je 1\n",
        "x a y jsou stejné\n",
        "Podmínka není splněna\n",
        "</pre>\n",
        "</td>\n",
        "<td>\n",
        "<pre>\n",
        "a je 10\n",
        "b je 6\n",
        "x a y nejsou stejné\n",
        "Podmínka není splněna\n",
        "</pre>\n",
        "</td>\n",
        "<td>\n",
        "<pre>\n",
        "a je 10\n",
        "b je 1\n",
        "x a y nejsou stejné\n",
        "Podmínka není splněna\n",
        "</pre>\n",
        "</td>\n",
        "</tr>\n",
        "</table>"
      ]
    },
    {
      "cell_type": "markdown",
      "metadata": {
        "id": "fAQllcVMgS3K"
      },
      "source": [
        "### Cvičení 3:\n",
        "Vytvořte podmínku, která vrátí True (pokud se písmeno nachází v slově \"abracadabra\"), nebo (proměnné x, y mají stejnou hodnotu), nebo (pokud mají 2 pole x, y stejnou hodnotu a stejné místo v paměti a zároveň součet proměnných a, b je větší než 15). Podmínku uložte do samostatné proměnné"
      ]
    },
    {
      "cell_type": "code",
      "execution_count": 6,
      "metadata": {
        "colab": {
          "base_uri": "https://localhost:8080/"
        },
        "id": "z5W87WwCgS3L",
        "outputId": "f551c252-34c5-455b-f8d7-b22bfdef2021"
      },
      "outputs": [
        {
          "name": "stdout",
          "output_type": "stream",
          "text": [
            "x a y jsou stejné\n",
            "a je 10\n",
            "b je 3\n",
            "písmeno na vyhledání je  z\n",
            "podminka je splnena\n"
          ]
        }
      ],
      "source": [
        "hledany_znak = input(\"zadejte písmeno\")\n",
        "slovo_na_porovnani = \"abracadabra\"\n",
        "x = [1, \"text\", True,[1, 2, 3]]\n",
        "x = y\n",
        "a = int(input(\"zadejte číslo\"))\n",
        "b = int(input(\"zadejte číslo\"))\n",
        "if (x is y):\n",
        "    print(\"x a y jsou stejné\")\n",
        "else:\n",
        "    print(\"x a y nejsou stejné\")\n",
        "print(\"a je\" , a)\n",
        "print(\"b je\" , b)\n",
        "print(\"písmeno na vyhledání je \", hledany_znak)\n",
        "\n",
        "if((hledany_znak in slovo_na_porovnani) or (x == y)) or ((x is y and a + b > 15)):\n",
        "    podminka = \"podminka je splnena\"\n",
        "else:\n",
        "    podminka = \"podminka neni splnena\"\n",
        "print(podminka)"
      ]
    },
    {
      "cell_type": "markdown",
      "metadata": {
        "id": "6aVlKdtWgS3N"
      },
      "source": [
        "Referenční řešení: <br>\n",
        "<table style=\"margin:auto\">\n",
        "<tr>\n",
        "<td>\n",
        "<pre>\n",
        "x a y jsou stejné\n",
        "a je 10\n",
        "b je 3\n",
        "písmeno na vyhledání je 'a'\n",
        "Podmínka je splněna\n",
        "</pre>\n",
        "</td>\n",
        "<td>\n",
        "<pre>\n",
        "x a y jsou stejné\n",
        "a je 10\n",
        "b je 3\n",
        "písmeno na vyhledání je 'z'\n",
        "Podmínka je splněna\n",
        "</pre>\n",
        "</td>\n",
        "<td>\n",
        "<pre>\n",
        "x a y nejsou stejné\n",
        "a je 10\n",
        "b je 3\n",
        "písmeno na vyhledání je 'z'\n",
        "Podmínka není splněna\n",
        "</pre>\n",
        "</td>\n",
        "<td>\n",
        "<pre>\n",
        "x a y nejsou stejné\n",
        "a je 10\n",
        "b je 7\n",
        "písmeno na vyhledání je 'z'\n",
        "Podmínka není splněna\n",
        "</pre>\n",
        "</td>\n",
        "<td>\n",
        "<pre>\n",
        "x a y jsou stejné\n",
        "a je 10\n",
        "b je 7\n",
        "písmeno na vyhledání je 'z'\n",
        "Podmínka je splněna\n",
        "</pre>\n",
        "</td>\n",
        "</tr>\n",
        "</table>"
      ]
    }
  ],
  "metadata": {
    "colab": {
      "provenance": []
    },
    "kernelspec": {
      "display_name": "venv",
      "language": "python",
      "name": "python3"
    },
    "language_info": {
      "codemirror_mode": {
        "name": "ipython",
        "version": 3
      },
      "file_extension": ".py",
      "mimetype": "text/x-python",
      "name": "python",
      "nbconvert_exporter": "python",
      "pygments_lexer": "ipython3",
      "version": "3.13.3"
    },
    "orig_nbformat": 4
  },
  "nbformat": 4,
  "nbformat_minor": 0
}
