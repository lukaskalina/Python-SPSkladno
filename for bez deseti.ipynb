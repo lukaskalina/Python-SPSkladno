{
 "cells": [
  {
   "cell_type": "code",
   "execution_count": null,
   "metadata": {
    "id": "kagERraVUe2E"
   },
   "outputs": [],
   "source": [
    "#na druhý řádek začněte vypracovávat desetiminutovku\n"
   ]
  },
  {
   "cell_type": "markdown",
   "metadata": {
    "id": "EYcVu7x2Ocam"
   },
   "source": [
    "# For cyklus\n",
    "Tento cyklus slouží k procházení \"seznamu\". V každém průchodu cyklem máme uloženou jednu hodnotu z tohoto seznamu.\n",
    "\n",
    "\"Seznam\", který lze procházet ``` for ``` cyklem, může být v Pythonu spoustu věcí - např:\n",
    "1. list, tuple - přímo seznam prvků\n",
    "2. string - seznam znaků\n",
    "3. soubor - seznam řádků\n",
    "4. range - seznam čísel\n",
    "\n",
    "For cyklus vypadá takto:\n",
    "```\n",
    "for jeden_prvek in seznam:\n",
    "    tělo cyklu\n",
    "```\n",
    "\n",
    " ```jeden_prvek``` je proměnná (občas jí říkáme \"řídící proměnná\"), ve které je postupně (v každém průchodu) uložen každý prvek ze ``` seznam ```.\n",
    "\n",
    "Jednoduchá ukázka for cyklu, který vypíše čísla od 0 do 9:"
   ]
  },
  {
   "cell_type": "code",
   "execution_count": null,
   "metadata": {
    "id": "hgqn6Y23RGEJ"
   },
   "outputs": [],
   "source": [
    "for i in range(10):\n",
    "    print(i)"
   ]
  },
  {
   "cell_type": "markdown",
   "metadata": {
    "id": "qdKBM2QqRwD1"
   },
   "source": [
    "For cyklus s ```range``` použváme (mimo jiné) ve chvíli, kdy víme, kolikrát chceme část kódu zopakovat - ```range``` totiž vytvoří přesně tolik čísel, kolik do něj (v jeho nejjednodušším použítí) zapíšeme.\n",
    "\n",
    "V jednoduchých for cyklech uvidíte většinou jako řídící proměnnou písmeno ```i``` (jako zkratka pro index). Programátor je líný, proto jedno písmenko :). Nenechte se zmást, místo písmena ```i``` může být libovolný název proměnné, je to jen nepsaná konvence."
   ]
  },
  {
   "cell_type": "code",
   "execution_count": null,
   "metadata": {
    "id": "oILA-V7kUKj6"
   },
   "outputs": [],
   "source": [
    "# průchod list\n",
    "vsichni_kamaradi = [\"Adam\", \"Bára\", \"Cyril\", \"Denisa\"]\n",
    "for kamarad in vsichni_kamaradi:\n",
    "    print(kamarad)"
   ]
  },
  {
   "cell_type": "code",
   "execution_count": null,
   "metadata": {
    "id": "epbFvOIGU_LH"
   },
   "outputs": [],
   "source": [
    "# průchod string\n",
    "vstup = input(\"Zadejte libovolny retezec: \")\n",
    "for pismeno in vstup:\n",
    "    print(pismeno)"
   ]
  },
  {
   "cell_type": "markdown",
   "metadata": {
    "id": "LFTDfOHaDhSt"
   },
   "source": [
    "# Enumerate"
   ]
  },
  {
   "cell_type": "markdown",
   "metadata": {
    "id": "l2svjX-6Dvdn"
   },
   "source": [
    "Funkce enumerate slouží také pro procházení posloupnosti čísel, stringu, nebo libovolné datové struktury(např. list), ale mimo uchovávání jednotlivých elementů ještě ukládá index každého elementu."
   ]
  },
  {
   "cell_type": "markdown",
   "metadata": {
    "id": "Br7z_BhoESz6"
   },
   "source": [
    "Bez funkce enumerate by situace vypadala např. následovně:"
   ]
  },
  {
   "cell_type": "code",
   "execution_count": null,
   "metadata": {
    "id": "cET_yvEQEbRf"
   },
   "outputs": [],
   "source": [
    "vsichni_kamaradi = [\"Adam\", \"Bára\", \"Cyril\", \"Denisa\"]\n",
    "index = 1\n",
    "\n",
    "for kamarad in vsichni_kamaradi:\n",
    "  print(\"Můj {}. kamarád je {}\".format(index, kamarad))\n",
    "  index += 1\n",
    "print(\"=== nebo ===\")\n",
    "for index in range(len(vsichni_kamaradi)):\n",
    "  print(\"Můj {}. kamarád je {}\".format(index+1, vsichni_kamaradi[index]))"
   ]
  },
  {
   "cell_type": "markdown",
   "metadata": {
    "id": "cqYX01u1FLJE"
   },
   "source": [
    "Ovšem s funkcí enumerate si lze tento problém značně zjednodušit:\n",
    "\n",
    "Jako řídící proměnnou přídáme na první místo proměnnou do které se bude ukládát pořadí(index) hodnoty v daném cyklu. Za ní si zvolíme klasickou řídící proměnnou která se bude starat hodnotu procházené posloupnosti."
   ]
  },
  {
   "cell_type": "code",
   "execution_count": null,
   "metadata": {
    "colab": {
     "base_uri": "https://localhost:8080/"
    },
    "id": "ks-WDBxwFVF3",
    "outputId": "e5cc56ae-29e5-4b18-cb38-6904343888da"
   },
   "outputs": [
    {
     "name": "stdout",
     "output_type": "stream",
     "text": [
      "Můj 0. kamarád je Adam\n",
      "Můj 1. kamarád je Bára\n",
      "Můj 2. kamarád je Cyril\n",
      "Můj 3. kamarád je Denisa\n"
     ]
    }
   ],
   "source": [
    "vsichni_kamaradi = [\"Adam\", \"Bára\", \"Cyril\", \"Denisa\"]\n",
    "\n",
    "for index, kamarad in enumerate(vsichni_kamaradi):\n",
    "  print(\"Můj {}. kamarád je {}\".format(index, kamarad))"
   ]
  },
  {
   "cell_type": "markdown",
   "metadata": {
    "id": "bG90w45JGJMq"
   },
   "source": [
    "Funkce enumerate ještě nabízí argument start, kterým říkáme na jaké číselné hodnotě bude indexovací řídící proměnná začínat. Ve výchozím stavu začíná samozřejmě na nule."
   ]
  },
  {
   "cell_type": "code",
   "execution_count": null,
   "metadata": {
    "colab": {
     "base_uri": "https://localhost:8080/"
    },
    "id": "NnMNGCJ-GXD-",
    "outputId": "70fe1fbf-63bc-4112-98e6-5d2407bd9b13"
   },
   "outputs": [
    {
     "name": "stdout",
     "output_type": "stream",
     "text": [
      "Můj 1. kamarád je Adam\n",
      "Můj 2. kamarád je Bára\n",
      "Můj 3. kamarád je Cyril\n",
      "Můj 4. kamarád je Denisa\n"
     ]
    }
   ],
   "source": [
    "vsichni_kamaradi = [\"Adam\", \"Bára\", \"Cyril\", \"Denisa\"]\n",
    "\n",
    "for index, kamarad in enumerate(vsichni_kamaradi, start=1):\n",
    "  print(\"Můj {}. kamarád je {}\".format(index, kamarad))"
   ]
  },
  {
   "cell_type": "markdown",
   "metadata": {
    "id": "BJl4mRtrGtgJ"
   },
   "source": [
    "# Cvičení"
   ]
  },
  {
   "cell_type": "markdown",
   "metadata": {
    "id": "tkHrSBT0o2yY"
   },
   "source": [
    "# 1"
   ]
  },
  {
   "cell_type": "markdown",
   "metadata": {
    "id": "-cIvoK8vpBOU"
   },
   "source": [
    "Dokonči následující kód tak, aby vypsal všechna jména z listu, která obsahují písmeno e."
   ]
  },
  {
   "cell_type": "code",
   "execution_count": null,
   "metadata": {
    "colab": {
     "base_uri": "https://localhost:8080/"
    },
    "executionInfo": {
     "elapsed": 750,
     "status": "ok",
     "timestamp": 1698237754499,
     "user": {
      "displayName": "",
      "userId": ""
     },
     "user_tz": -120
    },
    "id": "EPdlT0b6qFsD",
    "outputId": "0e760b80-467a-4a27-98e3-ea6df4d6cd6b"
   },
   "outputs": [
    {
     "name": "stdout",
     "output_type": "stream",
     "text": [
      "Josef\n",
      "Petr\n",
      "Marek\n",
      "Tadeas\n"
     ]
    }
   ],
   "source": []
  },
  {
   "cell_type": "markdown",
   "metadata": {
    "id": "zgGAo1L-pu0E"
   },
   "source": [
    "Očekávaný výstup - referenční řešení má 4 řádky:\n",
    "\n",
    "<table><tr>\n",
    "<td><pre>\n",
    "Josef\n",
    "Petr\n",
    "Marek\n",
    "Tadeas\n",
    "</pre></td>\n",
    "</tr></table>\n",
    "\n"
   ]
  },
  {
   "cell_type": "markdown",
   "metadata": {
    "id": "W5OUwRDDqabk"
   },
   "source": [
    "# 2"
   ]
  },
  {
   "cell_type": "markdown",
   "metadata": {
    "id": "z_NgWxBMqc4_"
   },
   "source": [
    "Vypiš všechna lichá čísla do 100 (užitím znalostí z této kapitoly)."
   ]
  },
  {
   "cell_type": "code",
   "execution_count": null,
   "metadata": {
    "colab": {
     "base_uri": "https://localhost:8080/"
    },
    "executionInfo": {
     "elapsed": 4,
     "status": "ok",
     "timestamp": 1699870784805,
     "user": {
      "displayName": "Matej Koudelka",
      "userId": "04954565181098885683"
     },
     "user_tz": -60
    },
    "id": "tPev7RV-0poR",
    "outputId": "a19fd01b-8fe9-408a-8a30-d7256e44fa12"
   },
   "outputs": [],
   "source": []
  },
  {
   "cell_type": "markdown",
   "metadata": {
    "id": "AsdnQTMarMEH"
   },
   "source": [
    "# 3"
   ]
  },
  {
   "cell_type": "markdown",
   "metadata": {
    "id": "5zcP7BI2ryTM"
   },
   "source": [
    "Projdi uvedený list jmen měst a vypiš vždy index města a název města (indexy začínají od 0). U města, jehož index uživatel zadal, přidej ještě nápis \"Vybráno\".\n",
    "\n",
    "Pokud uživatel zadá číslo, které neodpovídá žádnému indexu vypiš zprávu: Chybný vstup"
   ]
  },
  {
   "cell_type": "code",
   "execution_count": null,
   "metadata": {
    "colab": {
     "base_uri": "https://localhost:8080/"
    },
    "executionInfo": {
     "elapsed": 2417,
     "status": "ok",
     "timestamp": 1698238817882,
     "user": {
      "displayName": "",
      "userId": ""
     },
     "user_tz": -120
    },
    "id": "szjMo6GwrU6J",
    "outputId": "bc40ce7a-f5d6-4a26-82a7-c5b2019c6448"
   },
   "outputs": [
    {
     "name": "stdout",
     "output_type": "stream",
     "text": [
      "Zadejte index mesta: 3\n",
      "1. Ostrava\n",
      "2. Kladno\n",
      "3. Praha Vybráno\n",
      "4. Liberec\n",
      "5. Opava\n",
      "6. Ceske Budejovice\n",
      "7. Litomerice\n"
     ]
    }
   ],
   "source": []
  },
  {
   "cell_type": "markdown",
   "metadata": {
    "id": "Q0PSSIuytmit"
   },
   "source": [
    "Očekáváný výstup - referenční řešení má 18 řádků:\n",
    "<table><tr>\n",
    "<td><pre>\n",
    "Zadejte index mesta: 2\n",
    "0. město: Ostrava\n",
    "1. město: Kladno\n",
    "2. město: Praha Vybráno\n",
    "3. město: Liberec\n",
    "4. město: Opava\n",
    "5. město: Ceske Budejovice\n",
    "6. město: Litomerice\n",
    "</pre></td>\n",
    "<td><pre>\n",
    "Zadejte index mesta: -5\n",
    "Chybný vstup\n",
    "</pre></td>\n",
    "<td><pre>\n",
    "Zadaný vstup: 5\n",
    "0. město: Ostrava\n",
    "1. město: Kladno\n",
    "2. město: Praha\n",
    "3. město: Liberec\n",
    "4. město: Opava\n",
    "5. město: Ceske Budejovice Vybráno\n",
    "6. město: Litomerice\n",
    "</pre></td>\n",
    "<td><pre>\n",
    "Zadejte index mesta: 9\n",
    "Chybný vstup\n",
    "</pre></td>\n",
    "</tr></table>\n",
    "\n",
    "\n",
    "\n",
    "\n",
    "\n",
    "\n"
   ]
  }
 ],
 "metadata": {
  "colab": {
   "provenance": [
    {
     "file_id": "https://github.com/JaroslavHolecek/Teaching/blob/master/JupyterNotebook/Python/For_zadani.ipynb",
     "timestamp": 1698239924116
    }
   ]
  },
  "kernelspec": {
   "display_name": "Python 3",
   "name": "python3"
  },
  "language_info": {
   "name": "python"
  }
 },
 "nbformat": 4,
 "nbformat_minor": 0
}
