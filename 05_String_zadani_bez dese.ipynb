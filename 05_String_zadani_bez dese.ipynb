{
 "cells": [
  {
   "cell_type": "markdown",
   "metadata": {
    "id": "PIwOlL0MViKt"
   },
   "source": []
  },
  {
   "cell_type": "markdown",
   "metadata": {
    "id": "vUswKIaEle9w"
   },
   "source": [
    "# String\n",
    "K reprezentaci textu je nejen v Pythonu datový typ string. V Pythonu je to velice jednoduché, pokud chceme vytvořit textový řetězec používáme buď dvojité uvozovky \"\", nebo jednoduché uvozovky ''. Volba druhu uvozovek záleží pouze na nás, jediné co se musí dodžovat je aby zavádějící uvozovky a ukončující uvozovky byly stejné."
   ]
  },
  {
   "cell_type": "code",
   "execution_count": null,
   "metadata": {
    "id": "jYPWGHGvle96"
   },
   "outputs": [],
   "source": [
    "# ukázka stringu\n",
    "textovy_retezec = \"Maminka říkala \" \" Vem si kulicha\"\n",
    "print(textovy_retezec)\n",
    "\n",
    "textovy_retezec = 'Maminka říkala \" Vem si kulicha\" '\n",
    "print(textovy_retezec)"
   ]
  },
  {
   "cell_type": "markdown",
   "metadata": {
    "id": "7TE45elnle-A"
   },
   "source": [
    "## Spojení stringů\n",
    "Může nastat situace kdy budeme mít ve více proměnných datové typy string a budeme je chtít spojit do jednoho stringu. To se děje pomocí operátoru '+'."
   ]
  },
  {
   "cell_type": "code",
   "execution_count": null,
   "metadata": {
    "colab": {
     "base_uri": "https://localhost:8080/"
    },
    "executionInfo": {
     "elapsed": 19,
     "status": "ok",
     "timestamp": 1697026343202,
     "user": {
      "displayName": "",
      "userId": ""
     },
     "user_tz": -120
    },
    "id": "BVdiTbnvle-C",
    "outputId": "f68468f2-aadd-4114-bd72-62ffc3470636"
   },
   "outputs": [
    {
     "name": "stdout",
     "output_type": "stream",
     "text": [
      "Toto je spojený řetězec\n",
      "Totojespojenýřetězec\n"
     ]
    }
   ],
   "source": [
    "retezec_1 = \"Toto\"\n",
    "retezec_2 = \"je\"\n",
    "retezec_3 = \"spojený\"\n",
    "retezec_4 = \"řetězec\"\n",
    "\n",
    "spojeny_retezec = retezec_1 + \" \" + retezec_2 + \" \" + retezec_3 + \" \" + retezec_4\n",
    "print(spojeny_retezec)\n",
    "\n",
    "# Prázdné uvozovky s mezerami vkládáme pouze pro oddělení slov mezerou\n",
    "# Kdybychom tak neudělali text by vypadal takto\n",
    "\n",
    "spojeny_retezec = retezec_1 + retezec_2 + retezec_3 + retezec_4\n",
    "print(spojeny_retezec)\n"
   ]
  },
  {
   "cell_type": "markdown",
   "metadata": {
    "id": "npE8rQRXle-F"
   },
   "source": [
    "## Přetypování na string\n",
    "Nastanou situace kdy budeme mít datový typ např. int a chceme ho přetypovat na string. To se děje pomocí funkce str() a předáváme ji hodnotu kterou chceme přetypovat."
   ]
  },
  {
   "cell_type": "code",
   "execution_count": null,
   "metadata": {
    "colab": {
     "base_uri": "https://localhost:8080/"
    },
    "executionInfo": {
     "elapsed": 374,
     "status": "ok",
     "timestamp": 1697026371479,
     "user": {
      "displayName": "",
      "userId": ""
     },
     "user_tz": -120
    },
    "id": "qDFETzHWle-I",
    "outputId": "0f5ab486-7aa5-42c3-ef13-c76358cc27c4"
   },
   "outputs": [
    {
     "name": "stdout",
     "output_type": "stream",
     "text": [
      "123 123\n",
      "<class 'int'>\n",
      "<class 'str'>\n"
     ]
    }
   ],
   "source": [
    "cislo = 123\n",
    "str_cislo = str(cislo)\n",
    "\n",
    "# Nyní pokud vypíšeme datové typy obou proměnných zjistíme, že došlo k přetypování\n",
    "print(cislo, str_cislo)\n",
    "print(type(cislo))\n",
    "print(type(str_cislo))"
   ]
  },
  {
   "cell_type": "markdown",
   "metadata": {
    "id": "Czs9iTqPle-K"
   },
   "source": [
    "## Přetypování na int a float\n",
    "Opačně mohou nastat situace kdy budeme mít datový typ např. string a chceme ho přetypovat na int nebo float. To se děje pomocí funkce int() a float()."
   ]
  },
  {
   "cell_type": "code",
   "execution_count": null,
   "metadata": {
    "id": "TCenEajIle-L"
   },
   "outputs": [],
   "source": [
    "# mějme číselnou hodnotu zapsanou ve stringu\n",
    "cislo_ve_stringu = \"123\"\n",
    "\n",
    "# vypišme si datový typ této proměnné\n",
    "print(type(cislo_ve_stringu))\n",
    "\n",
    "# jak můžeme vidět jedná se o string\n",
    "\n",
    "# nyní k samotnému přetypování\n",
    "# to probíhá velmi podobně jako při převodu čísla na string\n",
    "cislo_int = int(cislo_ve_stringu)\n",
    "#můžeme vidět, že se došlo k přetypování\n",
    "print(type(cislo_int))\n",
    "\n",
    "# ten samý postup používáme i pro převod stringu na float\n",
    "cislo_float = float(cislo_ve_stringu)\n",
    "#opět můžeme vidět, že se došlo k přetypování\n",
    "print(type(cislo_float))\n",
    "\n",
    "# Kontrolní otázka: Co myslíte, že stane zde:\n",
    "#text = \"Ahoj\"\n",
    "#text_int = int(text)"
   ]
  },
  {
   "cell_type": "markdown",
   "metadata": {
    "id": "lm8-3zDble-P"
   },
   "source": [
    "## Uvozovky ve stringu\n",
    "Může se stát že budeme chtít ve stringu použít uvozovky."
   ]
  },
  {
   "cell_type": "code",
   "execution_count": null,
   "metadata": {
    "id": "AgRmj9u3le-U"
   },
   "outputs": [],
   "source": [
    "text_bez_uvozovek = \"Toto je text bez uvozovek\"\n",
    "text_s_uvozovkami = \"Toto je text s 'uvozovkami'\"\n",
    "# Pokud chceme v textu uvozovky musíme zvolit jiné, než kterými určujeme datový typ string\n",
    "# Pokud bychom použili stejné uvozovky, Python nám vyhodí chybu\n",
    "\n",
    "# chybne_uvozovky = \"Text s \"uvozovkami\"\" # chyba bude vidět pokud odkomentujete tento řádek"
   ]
  },
  {
   "cell_type": "markdown",
   "metadata": {
    "id": "Ia3joKoble-W"
   },
   "source": [
    "## Předávání proměnných do stringu\n",
    "Ne vždy budeme chtít vypsat přesně to co se nachází ve stringu, ale budeme text chtít pozměnit o nějakou proměnnou. Toto můžeme provést dvěma způsoby. Pomocí funkce format(), nebo pomocí f-stringu."
   ]
  },
  {
   "cell_type": "markdown",
   "metadata": {
    "id": "Kql8F5WLle-Z"
   },
   "source": [
    "### Pomocí funkce format()"
   ]
  },
  {
   "cell_type": "code",
   "execution_count": null,
   "metadata": {
    "id": "EAOIwHCDle-a"
   },
   "outputs": [],
   "source": [
    "# mějme 2 čísla\n",
    "cislo_1 = 123\n",
    "cislo_2 = 456\n",
    "\n",
    "# a cheme vypsat jejich součet jako string\n",
    "\n",
    "# komu použijeme na string funkci format()\n",
    "# A na místo kam chceme vložit proměnnou napíšeme {}\n",
    "# Do funkce format() vložíme \"cislo_1 + cislo_2\", tedy operaci kterou chceme s čísli provést\n",
    "# a jak si můžeme všimnout, funkce format() sama vytvoří z tohoto součtu string\n",
    "print(\"Výsledek je: {}\".format(cislo_1 + cislo_2))\n",
    "\n",
    "# Pokud budeme chtít předat více proměnných, musíme je vložit do funkce format() v takovém pořadí, jak jsou požadovány v řetězci\n",
    "string_vice_promennych = \"Součet čísel {} a {} je {}\".format(cislo_1, cislo_2, cislo_1 + cislo_2)\n",
    "print(string_vice_promennych)\n",
    "\n",
    "# pro lepší přehlednost můžeme do {} napsat \"proměnné\", na které se ve format() odkážeme\n",
    "\n",
    "string_vice_promennych_2 = \"Součet čísel {prvni} a {druhe} je {soucet}\".format(prvni=cislo_1, druhe=cislo_2, soucet=cislo_1 + cislo_2)\n",
    "print(string_vice_promennych_2)"
   ]
  },
  {
   "cell_type": "markdown",
   "metadata": {
    "id": "l-voIQbOle-d"
   },
   "source": [
    "### Pomocí f-stringu\n",
    "Dalším způsobem předávání proměnných do stringu je pomocí f-stringu. Jediný rozdíl od funkce format(), je že proměnné zapisujeme přímo do textu. Musíme je ale opět uložit do {}."
   ]
  },
  {
   "cell_type": "code",
   "execution_count": null,
   "metadata": {
    "id": "Fa6IVORole-e"
   },
   "outputs": [],
   "source": [
    "# mějme 2 čísla\n",
    "cislo_1 = 123\n",
    "cislo_2 = 456\n",
    "\n",
    "# a cheme vypsat jejich součet jako string\n",
    "\n",
    "# před uvozovky napíšeme \"f\", tím zajistíme, že se bude jednat o f-string.\n",
    "# pokud budeme chtít vypsat součet čísel, napíšeme početní operaci do \"{}\"\n",
    "# A Python se opět o převod na string z intů postará sám\n",
    "print(f\"Výsledek je: {cislo_1 + cislo_2}\")\n",
    "\n",
    "# Toto lze použít v jakémkoliv rozsahu\n",
    "string_vice_promennych = f\"Součet čísel {cislo_1} a {cislo_2} je {cislo_1 + cislo_2}\"\n",
    "print(string_vice_promennych)"
   ]
  },
  {
   "cell_type": "markdown",
   "metadata": {
    "id": "7mmYj4dqle-h"
   },
   "source": [
    "## Manipulace se stringy\n",
    "Nastanou situace kdy budeme chtít nějakým způsobem upravit string\n",
    "\n",
    "### lower()\n",
    "Pomocí funkce .lower() můžeme změnit velikost písmen v stringu na malá."
   ]
  },
  {
   "cell_type": "code",
   "execution_count": null,
   "metadata": {
    "id": "mCHdFQ2Ele-i"
   },
   "outputs": [],
   "source": [
    "text = \"NěJaKÝ tExT\"\n",
    "print(text)\n",
    "\n",
    "# pokud chceme změnit velikost písma, použijeme funkci lower()\n",
    "mala_pismena = text.lower()\n",
    "print(mala_pismena)"
   ]
  },
  {
   "cell_type": "markdown",
   "metadata": {
    "id": "PJpy9Gs6le-k"
   },
   "source": [
    "### split()\n",
    "Pomocí funkce .split() můžeme rozdělit string na jednotlivé části. Ty se následně uloží do list."
   ]
  },
  {
   "cell_type": "code",
   "execution_count": null,
   "metadata": {
    "colab": {
     "base_uri": "https://localhost:8080/"
    },
    "executionInfo": {
     "elapsed": 215,
     "status": "ok",
     "timestamp": 1697026694295,
     "user": {
      "displayName": "",
      "userId": ""
     },
     "user_tz": -120
    },
    "id": "zhOvkT7vle-m",
    "outputId": "e0cc7f14-01c3-4230-a515-ca8ca6bbb9f3"
   },
   "outputs": [
    {
     "name": "stdout",
     "output_type": "stream",
     "text": [
      "['Neko', 'ik nerozdě', 'ených s', 'ov']\n"
     ]
    }
   ],
   "source": [
    "nerozdeleny_text = \"Nekolik nerozdělených slov\"\n",
    "\n",
    "# jako parametr funkce split() vložíme znak, podle kterého chceme rozdělit text, defaultní znak na dělení je mezera\n",
    "rozdeleny_text = nerozdeleny_text.split(\"l\")\n",
    "print(rozdeleny_text)"
   ]
  },
  {
   "cell_type": "markdown",
   "metadata": {
    "id": "38uklB0Ale-o"
   },
   "source": [
    "### find()\n",
    "Pomocí funkce .find() můžeme najít určitý znak v stringu. Pokud najdeme, funkce vrátí jeho index(číslováno od nuly). Pokud find() znak nenajde, vrátí -1.\n",
    "Pokud se v textu nachází více znaků které jsme hledali, funkce find() vrátí index prvního nalezeného znaku."
   ]
  },
  {
   "cell_type": "code",
   "execution_count": null,
   "metadata": {
    "colab": {
     "base_uri": "https://localhost:8080/"
    },
    "executionInfo": {
     "elapsed": 10,
     "status": "ok",
     "timestamp": 1697026748188,
     "user": {
      "displayName": "",
      "userId": ""
     },
     "user_tz": -120
    },
    "id": "7v2Nd3dAle-o",
    "outputId": "8c99437e-ec5d-48ad-dada-dd51b69babdb"
   },
   "outputs": [
    {
     "name": "stdout",
     "output_type": "stream",
     "text": [
      "7\n"
     ]
    }
   ],
   "source": [
    "# máme nějaký text\n",
    "text = \"Nějaký text\"\n",
    "# a znak, který chceme najít\n",
    "znak_na_najiti = \"t\"\n",
    "\n",
    "#zjistíme jeho index\n",
    "index_znaku = text.find(znak_na_najiti)\n",
    "# vypíšeme si index\n",
    "print(index_znaku)"
   ]
  },
  {
   "cell_type": "markdown",
   "metadata": {
    "id": "j2jAHP1Ple-p"
   },
   "source": [
    "### Vypisování části stringu\n",
    "Python umožňuje pracovat s konkrétní částí stringu, podobně jako to je u pole."
   ]
  },
  {
   "cell_type": "code",
   "execution_count": null,
   "metadata": {
    "colab": {
     "base_uri": "https://localhost:8080/"
    },
    "id": "Y-jK2FL6le-q",
    "outputId": "b7ab093b-22c7-43c1-87c9-d6fd2c1d874d"
   },
   "outputs": [
    {
     "name": "stdout",
     "output_type": "stream",
     "text": [
      "Nějaký text\n",
      "j\n",
      "jaký text\n",
      "Ně\n",
      "jaký\n",
      "x\n",
      "aýtx\n",
      "txet ýkajěN\n"
     ]
    }
   ],
   "source": [
    "# máme nějaký text\n",
    "text = \"Nějaký text\"\n",
    "\n",
    "# index se kterým budeme pracovat\n",
    "index = 2\n",
    "# index je číslován od 0\n",
    "\n",
    "# takto vypadá náš string rozindexovaný\n",
    "# index 0 = N\n",
    "# index 1 = e\n",
    "# index 2 = j\n",
    "# index 3 = a\n",
    "# index 4 = k\n",
    "# index 5 = ý\n",
    "# index 6 = t\n",
    "# index 7 = e\n",
    "# index 8 = x\n",
    "# index 9 = t\n",
    "\n",
    "\n",
    "print(text)\n",
    "\n",
    "# pokud chceme zjistit znak na konkrétní pozici, do \"[]\" napíšeme index, který chceme vypsat,\n",
    "print(text[index])\n",
    "\n",
    "# můžeme vypisovat část textu, která se nachází za konkrétním indexem\n",
    "# znak \":\" zde znamená \"od\", tedy vypíšeme znaky od indexu 2 do konce\n",
    "print(text[index:])\n",
    "\n",
    "# můžeme vypisovat část textu, která se nachází před konkrétním indexem\n",
    "# znak \":\" zde znamená \"do\", tedy vypíšeme znaky od začátku do indexu 2\n",
    "\n",
    "# jediné co se změnilo bylo pořadí indexu a znak \":\"\n",
    "print(text[:index])\n",
    "\n",
    "# můžeme vypisovat část textu, která se nachází mezi konkrétními indexy\n",
    "# v tomto případě se vypíší znaky od indexu 2 do indexu 6\n",
    "print(text[index:index + 4])\n",
    "\n",
    "# Python umožňuje zadat do \"[]\" záporné číslo, tím vypíšeme konkrétní index od konce\n",
    "print(text[-index])\n",
    "\n",
    "# Kromě od-do můžeme zadat i krok\n",
    "print(text[3:10:2])\n",
    "\n",
    "# Kombinací lze např. snadno text převrátit\n",
    "print(text[::-1])"
   ]
  },
  {
   "cell_type": "markdown",
   "metadata": {
    "id": "XuxhVAARle-s"
   },
   "source": [
    "## Cvičení\n",
    "Bude následovat cvičení na procvičení tohoto notebooku. <br>\n",
    "### Cvičení 1:\n",
    "Dané proměnné x, y přetypujte na int, vynásobte a vložte do zadaného stringu, který předem upravíte tak, aby všechna písmena byla malá."
   ]
  },
  {
   "cell_type": "code",
   "execution_count": 2,
   "metadata": {
    "colab": {
     "base_uri": "https://localhost:8080/"
    },
    "executionInfo": {
     "elapsed": 231,
     "status": "ok",
     "timestamp": 1697027203085,
     "user": {
      "displayName": "",
      "userId": ""
     },
     "user_tz": -120
    },
    "id": "PiySkPnCle-t",
    "outputId": "ff3c2b15-ec84-45f7-c6a5-d85ce81a1be1"
   },
   "outputs": [
    {
     "name": "stdout",
     "output_type": "stream",
     "text": [
      "součin čísel x = 5 a y = 50 je 250\n"
     ]
    }
   ],
   "source": [
    "x = \"5\"\n",
    "y = \"50\"\n",
    "x = int(x)\n",
    "y = int(y)\n",
    "\n",
    "string = \"součin čísel x = {} a y = {} Je {}\" .lower().format(x, y, x * y)\n",
    "\n",
    "print(string)"
   ]
  },
  {
   "cell_type": "markdown",
   "metadata": {
    "id": "oCY4HdOXle-u"
   },
   "source": [
    "Referenční řešení: <br>\n",
    "<table style=\"margin:auto\">\n",
    "<tr>\n",
    "<td>\n",
    "<pre>\n",
    "součet čísel x = 5 a y = 50 je 250\n",
    "</pre>\n",
    "</td>\n",
    "</tr>\n",
    "</table>"
   ]
  },
  {
   "cell_type": "markdown",
   "metadata": {
    "id": "-9sluqXule-w"
   },
   "source": [
    "### Cvičení 2:\n",
    "Ze zadaného textu vypište 6 znak, poslední znak (i pokud se změní délka textu) a znaky od 12 do 20 znaku."
   ]
  },
  {
   "cell_type": "code",
   "execution_count": 5,
   "metadata": {
    "colab": {
     "base_uri": "https://localhost:8080/"
    },
    "executionInfo": {
     "elapsed": 232,
     "status": "ok",
     "timestamp": 1697028508618,
     "user": {
      "displayName": "",
      "userId": ""
     },
     "user_tz": -120
    },
    "id": "rxPaFlWqle-x",
    "outputId": "c5308fb5-dea9-466d-c93b-34f2c28d3069"
   },
   "outputs": [
    {
     "name": "stdout",
     "output_type": "stream",
     "text": [
      "n\n",
      "í\n",
      "ouskován\n"
     ]
    }
   ],
   "source": [
    "string = \"Text na rozkouskování\"\n",
    "\n",
    "print(string[5])\n",
    "print(string[-1])\n",
    "print(string[12:20])\n",
    "\n",
    "\n"
   ]
  },
  {
   "cell_type": "markdown",
   "metadata": {
    "id": "TDyUMt3Ile-y"
   },
   "source": [
    "Referenční řešení: <br>\n",
    "<table style=\"margin:auto\">\n",
    "<tr>\n",
    "<td>\n",
    "<pre>\n",
    "n\n",
    "í\n",
    "ouskován\n",
    "</pre>\n",
    "</td>\n",
    "</tr>\n",
    "</table>"
   ]
  },
  {
   "cell_type": "markdown",
   "metadata": {
    "id": "aMBJgphWle-z"
   },
   "source": [
    "### Cvičení 3:\n",
    "Zadanné hodnoty spojte do jednoho stringu a vypište"
   ]
  },
  {
   "cell_type": "code",
   "execution_count": 7,
   "metadata": {
    "colab": {
     "base_uri": "https://localhost:8080/"
    },
    "executionInfo": {
     "elapsed": 216,
     "status": "ok",
     "timestamp": 1697028565954,
     "user": {
      "displayName": "",
      "userId": ""
     },
     "user_tz": -120
    },
    "id": "0E7PSAmcle-0",
    "outputId": "d13012de-8831-4640-a37a-60264e65d96a"
   },
   "outputs": [
    {
     "name": "stdout",
     "output_type": "stream",
     "text": [
      "Nějaký text, který se má spojit. Přídáme k němu čísla 26\n"
     ]
    }
   ],
   "source": [
    "a = \"Nějaký text\"\n",
    "s = \", který se má spojit.\"\n",
    "d = \"Přídáme k němu čísla\"\n",
    "f = 2\n",
    "g = 6\n",
    "f = str(f)\n",
    "g = str(g)\n",
    "\n",
    "spojeny = a + s + \" \" + d + \" \" + f + g\n",
    "print(spojeny)"
   ]
  },
  {
   "cell_type": "markdown",
   "metadata": {
    "id": "9C3rmPhsle-1"
   },
   "source": [
    "Referenční řešení: <br>\n",
    "<table style=\"margin:auto\">\n",
    "<tr>\n",
    "<td>\n",
    "<pre>\n",
    "Nějaký text, který se má spojit. Přídáme k němu čísla 26\n",
    "</pre>\n",
    "</td>\n",
    "</tr>\n",
    "</table>"
   ]
  }
 ],
 "metadata": {
  "colab": {
   "provenance": [
    {
     "file_id": "https://github.com/JaroslavHolecek/Teaching/blob/master/JupyterNotebook/Python/String_zadani.ipynb",
     "timestamp": 1697028791028
    }
   ]
  },
  "kernelspec": {
   "display_name": "venv",
   "language": "python",
   "name": "python3"
  },
  "language_info": {
   "codemirror_mode": {
    "name": "ipython",
    "version": 3
   },
   "file_extension": ".py",
   "mimetype": "text/x-python",
   "name": "python",
   "nbconvert_exporter": "python",
   "pygments_lexer": "ipython3",
   "version": "3.13.3"
  },
  "orig_nbformat": 4
 },
 "nbformat": 4,
 "nbformat_minor": 0
}
