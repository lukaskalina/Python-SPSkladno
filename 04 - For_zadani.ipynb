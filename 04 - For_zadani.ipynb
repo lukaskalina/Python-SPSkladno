{
 "cells": [
  {
   "cell_type": "markdown",
   "metadata": {
    "id": "YAPobeefSS7j"
   },
   "source": [
    "# Desetiminutovka\n",
    "\n",
    "Napiš program, který zjistí, jestli uživatel může volit. Použij k tomu logické funkce (and, or, not).\n",
    "Podmínky:\n",
    "\n",
    "Musí mít věk alespoň 18 let\n",
    "Musí být občan ČR\n",
    "---\n",
    "\n",
    "Ukázka řešení:\n",
    "```\n",
    "Zadej svůj věk: 20\n",
    "Jsi občan ČR? (ano/ne): ano\n",
    "Můžeš volit.\n",
    "\n",
    "jiný vstup:\n",
    "\n",
    "Zadej svůj věk: 15\n",
    "Jsi občan ČR? (ano/ne): ano\n",
    "Nemůžeš volit.\n",
    "\n",
    "```\n",
    "\n",
    "\n",
    "\n"
   ]
  },
  {
   "cell_type": "code",
   "execution_count": 2,
   "metadata": {
    "id": "kagERraVUe2E"
   },
   "outputs": [
    {
     "name": "stdout",
     "output_type": "stream",
     "text": [
      "mužeš volit\n"
     ]
    }
   ],
   "source": [
    "#na druhý řádek začněte vypracovávat desetiminutovku\n",
    "věk = int(input(\"Zadej svůj věk\"))\n",
    "obcan = input(\"jsi občan ČR (ano/ne)\")\n",
    "\n",
    "if věk >= 18 and obcan == \"ano\":\n",
    "    print(\"mužeš volit\")\n",
    "else:\n",
    "    print(\"nemůžeš volit\")"
   ]
  },
  {
   "cell_type": "markdown",
   "metadata": {
    "id": "EYcVu7x2Ocam"
   },
   "source": [
    "# For cyklus\n",
    "Tento cyklus slouží k procházení \"seznamu\". V každém průchodu cyklem máme uloženou jednu hodnotu z tohoto seznamu.\n",
    "\n",
    "\"Seznam\", který lze procházet ``` for ``` cyklem, může být v Pythonu spoustu věcí - např:\n",
    "1. list, tuple - přímo seznam prvků\n",
    "2. string - seznam znaků\n",
    "3. soubor - seznam řádků\n",
    "4. range - seznam čísel\n",
    "\n",
    "For cyklus vypadá takto:\n",
    "```\n",
    "for jeden_prvek in seznam:\n",
    "    tělo cyklu\n",
    "```\n",
    "\n",
    " ```jeden_prvek``` je proměnná (občas jí říkáme \"řídící proměnná\"), ve které je postupně (v každém průchodu) uložen každý prvek ze ``` seznam ```.\n",
    "\n",
    "Jednoduchá ukázka for cyklu, který vypíše čísla od 0 do 9:"
   ]
  },
  {
   "cell_type": "code",
   "execution_count": null,
   "metadata": {
    "id": "hgqn6Y23RGEJ"
   },
   "outputs": [],
   "source": [
    "for i in range(10):\n",
    "    print(i)"
   ]
  },
  {
   "cell_type": "markdown",
   "metadata": {},
   "source": [
    "Jednoduchá ukázka for cyklu, který nezačíná 0."
   ]
  },
  {
   "cell_type": "code",
   "execution_count": null,
   "metadata": {},
   "outputs": [],
   "source": [
    "#             od, do\n",
    "for i in range(5, 10):\n",
    "    print(i)"
   ]
  },
  {
   "cell_type": "markdown",
   "metadata": {},
   "source": [
    "Jednoduchá ukázka for cyklu, který jde pozpátku."
   ]
  },
  {
   "cell_type": "code",
   "execution_count": null,
   "metadata": {},
   "outputs": [],
   "source": [
    "#              od, do, krok\n",
    "for i in range(10,  2,  -1):\n",
    "    print(i)"
   ]
  },
  {
   "cell_type": "markdown",
   "metadata": {
    "id": "qdKBM2QqRwD1"
   },
   "source": [
    "For cyklus s ```range``` použváme (mimo jiné) ve chvíli, kdy víme, kolikrát chceme část kódu zopakovat - ```range``` totiž vytvoří přesně tolik čísel, kolik do něj (v jeho nejjednodušším použítí) zapíšeme.\n",
    "\n",
    "V jednoduchých for cyklech uvidíte většinou jako řídící proměnnou písmeno ```i``` (jako zkratka pro index). Programátor je líný, proto jedno písmenko :). Nenechte se zmást, místo písmena ```i``` může být libovolný název proměnné, je to jen nepsaná konvence."
   ]
  },
  {
   "cell_type": "code",
   "execution_count": null,
   "metadata": {
    "id": "oILA-V7kUKj6"
   },
   "outputs": [],
   "source": [
    "# průchod list\n",
    "vsichni_kamaradi = [\"Adam\", \"Bára\", \"Cyril\", \"Denisa\"]\n",
    "for kamarad in vsichni_kamaradi:\n",
    "    print(kamarad)"
   ]
  },
  {
   "cell_type": "code",
   "execution_count": null,
   "metadata": {
    "id": "epbFvOIGU_LH"
   },
   "outputs": [],
   "source": [
    "# průchod string\n",
    "vstup = input(\"Zadejte libovolny retezec: \")\n",
    "for pismeno in vstup:\n",
    "    print(pismeno)"
   ]
  },
  {
   "cell_type": "markdown",
   "metadata": {
    "id": "LFTDfOHaDhSt"
   },
   "source": [
    "# Enumerate"
   ]
  },
  {
   "cell_type": "markdown",
   "metadata": {
    "id": "l2svjX-6Dvdn"
   },
   "source": [
    "Funkce enumerate slouží také pro procházení posloupnosti čísel, stringu, nebo libovolné datové struktury(např. list), ale mimo uchovávání jednotlivých elementů ještě ukládá index každého elementu."
   ]
  },
  {
   "cell_type": "markdown",
   "metadata": {
    "id": "Br7z_BhoESz6"
   },
   "source": [
    "Bez funkce enumerate by situace vypadala např. následovně:"
   ]
  },
  {
   "cell_type": "code",
   "execution_count": null,
   "metadata": {
    "id": "cET_yvEQEbRf"
   },
   "outputs": [],
   "source": [
    "vsichni_kamaradi = [\"Adam\", \"Bára\", \"Cyril\", \"Denisa\"]\n",
    "index = 1\n",
    "\n",
    "for kamarad in vsichni_kamaradi:\n",
    "  print(\"Můj {}. kamarád je {}\".format(index, kamarad))\n",
    "  index += 1\n",
    "print(\"=== nebo ===\")\n",
    "for index in range(len(vsichni_kamaradi)):\n",
    "  print(\"Můj {}. kamarád je {}\".format(index+1, vsichni_kamaradi[index]))"
   ]
  },
  {
   "cell_type": "code",
   "execution_count": null,
   "metadata": {},
   "outputs": [],
   "source": [
    "seznam = [5, 3, 8, 1, 4]\n",
    "print(f\"Třetí prvek seznamu je: {seznam[2]}\")"
   ]
  },
  {
   "cell_type": "markdown",
   "metadata": {
    "id": "cqYX01u1FLJE"
   },
   "source": [
    "Ovšem s funkcí enumerate si lze tento problém značně zjednodušit:\n",
    "\n",
    "Jako řídící proměnnou přídáme na první místo proměnnou do které se bude ukládát pořadí(index) hodnoty v daném cyklu. Za ní si zvolíme klasickou řídící proměnnou která se bude starat hodnotu procházené posloupnosti."
   ]
  },
  {
   "cell_type": "code",
   "execution_count": null,
   "metadata": {
    "colab": {
     "base_uri": "https://localhost:8080/"
    },
    "id": "ks-WDBxwFVF3",
    "outputId": "e5cc56ae-29e5-4b18-cb38-6904343888da"
   },
   "outputs": [
    {
     "name": "stdout",
     "output_type": "stream",
     "text": [
      "Můj 0. kamarád je Adam\n",
      "Můj 1. kamarád je Bára\n",
      "Můj 2. kamarád je Cyril\n",
      "Můj 3. kamarád je Denisa\n"
     ]
    }
   ],
   "source": [
    "vsichni_kamaradi = [\"Adam\", \"Bára\", \"Cyril\", \"Denisa\"]\n",
    "\n",
    "for index, kamarad in enumerate(vsichni_kamaradi):\n",
    "  print(\"Můj {}. kamarád je {}\".format(index+1, kamarad))"
   ]
  },
  {
   "cell_type": "markdown",
   "metadata": {
    "id": "bG90w45JGJMq"
   },
   "source": [
    "Funkce enumerate ještě nabízí argument start, kterým říkáme na jaké číselné hodnotě bude indexovací řídící proměnná začínat. Ve výchozím stavu začíná samozřejmě na nule."
   ]
  },
  {
   "cell_type": "code",
   "execution_count": null,
   "metadata": {
    "colab": {
     "base_uri": "https://localhost:8080/"
    },
    "id": "NnMNGCJ-GXD-",
    "outputId": "70fe1fbf-63bc-4112-98e6-5d2407bd9b13"
   },
   "outputs": [
    {
     "name": "stdout",
     "output_type": "stream",
     "text": [
      "Můj 1. kamarád je Adam\n",
      "Můj 2. kamarád je Bára\n",
      "Můj 3. kamarád je Cyril\n",
      "Můj 4. kamarád je Denisa\n"
     ]
    }
   ],
   "source": [
    "vsichni_kamaradi = [\"Adam\", \"Bára\", \"Cyril\", \"Denisa\"]\n",
    "\n",
    "for index, kamarad in enumerate(vsichni_kamaradi, start=1):\n",
    "  print(\"Můj {}. kamarád je {}\".format(index, kamarad))"
   ]
  },
  {
   "cell_type": "markdown",
   "metadata": {
    "id": "BJl4mRtrGtgJ"
   },
   "source": [
    "# Cvičení"
   ]
  },
  {
   "cell_type": "markdown",
   "metadata": {
    "id": "tkHrSBT0o2yY"
   },
   "source": [
    "# 1"
   ]
  },
  {
   "cell_type": "markdown",
   "metadata": {
    "id": "-cIvoK8vpBOU"
   },
   "source": [
    "Dokonči následující kód tak, aby vypsal všechna jména z listu, která obsahují písmeno e."
   ]
  },
  {
   "cell_type": "code",
   "execution_count": null,
   "metadata": {
    "colab": {
     "base_uri": "https://localhost:8080/"
    },
    "executionInfo": {
     "elapsed": 750,
     "status": "ok",
     "timestamp": 1698237754499,
     "user": {
      "displayName": "",
      "userId": ""
     },
     "user_tz": -120
    },
    "id": "EPdlT0b6qFsD",
    "outputId": "0e760b80-467a-4a27-98e3-ea6df4d6cd6b"
   },
   "outputs": [
    {
     "name": "stdout",
     "output_type": "stream",
     "text": [
      "Josef\n",
      "Petr\n",
      "Marek\n",
      "Tadeas\n"
     ]
    }
   ],
   "source": [
    "jmena = [\"Josef\", \"Martin\", \"Petr\", \"Marek\", \"Tadeas\", \"Jiri\"]\n",
    "\n",
    "for jmeno in jmena:\n",
    "  if \"e\" in jmeno:\n",
    "    print(jmeno)"
   ]
  },
  {
   "cell_type": "markdown",
   "metadata": {
    "id": "zgGAo1L-pu0E"
   },
   "source": [
    "Očekávaný výstup - referenční řešení má 4 řádky:\n",
    "\n",
    "<table><tr>\n",
    "<td><pre>\n",
    "Josef\n",
    "Petr\n",
    "Marek\n",
    "Tadeas\n",
    "</pre></td>\n",
    "</tr></table>\n",
    "\n"
   ]
  },
  {
   "cell_type": "markdown",
   "metadata": {
    "id": "W5OUwRDDqabk"
   },
   "source": [
    "# 2"
   ]
  },
  {
   "cell_type": "markdown",
   "metadata": {
    "id": "z_NgWxBMqc4_"
   },
   "source": [
    "Vypiš všechna lichá čísla do 100 (užitím znalostí z této kapitoly)."
   ]
  },
  {
   "cell_type": "code",
   "execution_count": 6,
   "metadata": {
    "colab": {
     "base_uri": "https://localhost:8080/"
    },
    "executionInfo": {
     "elapsed": 4,
     "status": "ok",
     "timestamp": 1699870784805,
     "user": {
      "displayName": "Matej Koudelka",
      "userId": "04954565181098885683"
     },
     "user_tz": -60
    },
    "id": "tPev7RV-0poR",
    "outputId": "a19fd01b-8fe9-408a-8a30-d7256e44fa12"
   },
   "outputs": [
    {
     "name": "stdout",
     "output_type": "stream",
     "text": [
      "1\n",
      "3\n",
      "5\n",
      "7\n",
      "9\n",
      "11\n",
      "13\n",
      "15\n",
      "17\n",
      "19\n",
      "21\n",
      "23\n",
      "25\n",
      "27\n",
      "29\n",
      "31\n",
      "33\n",
      "35\n",
      "37\n",
      "39\n",
      "41\n",
      "43\n",
      "45\n",
      "47\n",
      "49\n",
      "51\n",
      "53\n",
      "55\n",
      "57\n",
      "59\n",
      "61\n",
      "63\n",
      "65\n",
      "67\n",
      "69\n",
      "71\n",
      "73\n",
      "75\n",
      "77\n",
      "79\n",
      "81\n",
      "83\n",
      "85\n",
      "87\n",
      "89\n",
      "91\n",
      "93\n",
      "95\n",
      "97\n",
      "99\n",
      "1\n",
      "3\n",
      "5\n",
      "7\n",
      "9\n",
      "11\n",
      "13\n",
      "15\n",
      "17\n",
      "19\n",
      "21\n",
      "23\n",
      "25\n",
      "27\n",
      "29\n",
      "31\n",
      "33\n",
      "35\n",
      "37\n",
      "39\n",
      "41\n",
      "43\n",
      "45\n",
      "47\n",
      "49\n",
      "51\n",
      "53\n",
      "55\n",
      "57\n",
      "59\n",
      "61\n",
      "63\n",
      "65\n",
      "67\n",
      "69\n",
      "71\n",
      "73\n",
      "75\n",
      "77\n",
      "79\n",
      "81\n",
      "83\n",
      "85\n",
      "87\n",
      "89\n",
      "91\n",
      "93\n",
      "95\n",
      "97\n",
      "99\n"
     ]
    }
   ],
   "source": [
    "# TODO: tento úkol je celý na vás a jistě ho zvládnete i zkontrolovat...\n",
    "# referenční řešení má 2 řádky\n",
    "for i in range(1,100,2):\n",
    "    print(i)\n",
    "\n",
    "for i in range(100):\n",
    "  if i % 2 == 1:\n",
    "      print(i)"
   ]
  },
  {
   "cell_type": "markdown",
   "metadata": {
    "id": "AsdnQTMarMEH"
   },
   "source": [
    "# 3"
   ]
  },
  {
   "cell_type": "markdown",
   "metadata": {
    "id": "5zcP7BI2ryTM"
   },
   "source": [
    "Projdi uvedený list jmen měst a vypiš vždy index města a název města (indexy začínají od 0). U města, jehož index uživatel zadal, přidej ještě nápis \"Vybráno\".\n",
    "\n",
    "Pokud uživatel zadá číslo, které neodpovídá žádnému indexu vypiš zprávu: Chybný vstup"
   ]
  },
  {
   "cell_type": "code",
   "execution_count": 14,
   "metadata": {
    "colab": {
     "base_uri": "https://localhost:8080/"
    },
    "executionInfo": {
     "elapsed": 2417,
     "status": "ok",
     "timestamp": 1698238817882,
     "user": {
      "displayName": "",
      "userId": ""
     },
     "user_tz": -120
    },
    "id": "szjMo6GwrU6J",
    "outputId": "bc40ce7a-f5d6-4a26-82a7-c5b2019c6448"
   },
   "outputs": [
    {
     "name": "stdout",
     "output_type": "stream",
     "text": [
      "Index mimo range\n"
     ]
    }
   ],
   "source": [
    "vstup = int(input(\" Zadejte index města: \"))\n",
    "můj_list = [\n",
    "    \"Ostrava\",\n",
    "    \"Kladno\",\n",
    "    \"Praha\",\n",
    "    \"Liberec\",\n",
    "    \"Opava\",\n",
    "    \"Ceske Budejovice\",\n",
    "    \"Litomerice\"\n",
    "]\n",
    "if vstup > len(můj_list) or vstup < 0:\n",
    "  print(\"Index mimo range\")\n",
    "else:\n",
    "  for index,mesto in enumerate(můj_list):\n",
    "    if index+1 == vstup:\n",
    "          print(str(index+1) + \".\" + mesto + \"Vybráno\")\n",
    "    else:\n",
    "          print(str(index+1) + \".\" + mesto)\n",
    "\n",
    "    \n",
    "\n",
    "\n",
    "    \n",
    "\n"
   ]
  },
  {
   "cell_type": "markdown",
   "metadata": {
    "id": "Q0PSSIuytmit"
   },
   "source": [
    "Očekáváný výstup - referenční řešení má 18 řádků:\n",
    "<table><tr>\n",
    "<td><pre>\n",
    "Zadejte index mesta: 2\n",
    "0. město: Ostrava\n",
    "1. město: Kladno\n",
    "2. město: Praha Vybráno\n",
    "3. město: Liberec\n",
    "4. město: Opava\n",
    "5. město: Ceske Budejovice\n",
    "6. město: Litomerice\n",
    "</pre></td>\n",
    "<td><pre>\n",
    "Zadejte index mesta: -5\n",
    "Chybný vstup\n",
    "</pre></td>\n",
    "<td><pre>\n",
    "Zadaný vstup: 5\n",
    "0. město: Ostrava\n",
    "1. město: Kladno\n",
    "2. město: Praha\n",
    "3. město: Liberec\n",
    "4. město: Opava\n",
    "5. město: Ceske Budejovice Vybráno\n",
    "6. město: Litomerice\n",
    "</pre></td>\n",
    "<td><pre>\n",
    "Zadejte index mesta: 9\n",
    "Chybný vstup\n",
    "</pre></td>\n",
    "</tr></table>\n",
    "\n",
    "\n",
    "\n",
    "\n",
    "\n",
    "\n"
   ]
  }
 ],
 "metadata": {
  "colab": {
   "provenance": [
    {
     "file_id": "https://github.com/JaroslavHolecek/Teaching/blob/master/JupyterNotebook/Python/For_zadani.ipynb",
     "timestamp": 1698239924116
    }
   ]
  },
  "kernelspec": {
   "display_name": "venv",
   "language": "python",
   "name": "python3"
  },
  "language_info": {
   "codemirror_mode": {
    "name": "ipython",
    "version": 3
   },
   "file_extension": ".py",
   "mimetype": "text/x-python",
   "name": "python",
   "nbconvert_exporter": "python",
   "pygments_lexer": "ipython3",
   "version": "3.13.3"
  }
 },
 "nbformat": 4,
 "nbformat_minor": 0
}
